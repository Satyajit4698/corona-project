{
 "cells": [
  {
   "cell_type": "code",
   "execution_count": 1,
   "metadata": {},
   "outputs": [],
   "source": [
    "import numpy as np\n",
    "import pandas as pd"
   ]
  },
  {
   "cell_type": "code",
   "execution_count": 2,
   "metadata": {},
   "outputs": [
    {
     "data": {
      "text/html": [
       "<div>\n",
       "<style scoped>\n",
       "    .dataframe tbody tr th:only-of-type {\n",
       "        vertical-align: middle;\n",
       "    }\n",
       "\n",
       "    .dataframe tbody tr th {\n",
       "        vertical-align: top;\n",
       "    }\n",
       "\n",
       "    .dataframe thead th {\n",
       "        text-align: right;\n",
       "    }\n",
       "</style>\n",
       "<table border=\"1\" class=\"dataframe\">\n",
       "  <thead>\n",
       "    <tr style=\"text-align: right;\">\n",
       "      <th></th>\n",
       "      <th>date</th>\n",
       "      <th>cold</th>\n",
       "      <th>flu</th>\n",
       "      <th>pneumonia</th>\n",
       "      <th>coronavirus</th>\n",
       "    </tr>\n",
       "  </thead>\n",
       "  <tbody>\n",
       "    <tr>\n",
       "      <td>0</td>\n",
       "      <td>2019-12-07</td>\n",
       "      <td>0.12408</td>\n",
       "      <td>0.24699</td>\n",
       "      <td>0.22144</td>\n",
       "      <td>0.01309</td>\n",
       "    </tr>\n",
       "    <tr>\n",
       "      <td>1</td>\n",
       "      <td>2019-12-08</td>\n",
       "      <td>0.11863</td>\n",
       "      <td>0.25390</td>\n",
       "      <td>0.19617</td>\n",
       "      <td>0.00836</td>\n",
       "    </tr>\n",
       "    <tr>\n",
       "      <td>2</td>\n",
       "      <td>2019-12-09</td>\n",
       "      <td>0.16308</td>\n",
       "      <td>0.47880</td>\n",
       "      <td>0.33180</td>\n",
       "      <td>0.01272</td>\n",
       "    </tr>\n",
       "    <tr>\n",
       "      <td>3</td>\n",
       "      <td>2019-12-10</td>\n",
       "      <td>0.13981</td>\n",
       "      <td>0.40789</td>\n",
       "      <td>0.30671</td>\n",
       "      <td>0.01881</td>\n",
       "    </tr>\n",
       "    <tr>\n",
       "      <td>4</td>\n",
       "      <td>2019-12-11</td>\n",
       "      <td>0.13972</td>\n",
       "      <td>0.39007</td>\n",
       "      <td>0.30299</td>\n",
       "      <td>0.01854</td>\n",
       "    </tr>\n",
       "    <tr>\n",
       "      <td>...</td>\n",
       "      <td>...</td>\n",
       "      <td>...</td>\n",
       "      <td>...</td>\n",
       "      <td>...</td>\n",
       "      <td>...</td>\n",
       "    </tr>\n",
       "    <tr>\n",
       "      <td>86</td>\n",
       "      <td>2020-03-02</td>\n",
       "      <td>0.88160</td>\n",
       "      <td>0.13345</td>\n",
       "      <td>0.44080</td>\n",
       "      <td>60.86853</td>\n",
       "    </tr>\n",
       "    <tr>\n",
       "      <td>87</td>\n",
       "      <td>2020-03-03</td>\n",
       "      <td>0.67934</td>\n",
       "      <td>0.11917</td>\n",
       "      <td>0.39853</td>\n",
       "      <td>47.17367</td>\n",
       "    </tr>\n",
       "    <tr>\n",
       "      <td>88</td>\n",
       "      <td>2020-03-04</td>\n",
       "      <td>0.82579</td>\n",
       "      <td>0.10790</td>\n",
       "      <td>0.35671</td>\n",
       "      <td>39.84053</td>\n",
       "    </tr>\n",
       "    <tr>\n",
       "      <td>89</td>\n",
       "      <td>2020-03-05</td>\n",
       "      <td>0.64916</td>\n",
       "      <td>0.09745</td>\n",
       "      <td>0.31726</td>\n",
       "      <td>33.24218</td>\n",
       "    </tr>\n",
       "    <tr>\n",
       "      <td>90</td>\n",
       "      <td>2020-03-06</td>\n",
       "      <td>0.58625</td>\n",
       "      <td>0.09163</td>\n",
       "      <td>0.28071</td>\n",
       "      <td>29.61647</td>\n",
       "    </tr>\n",
       "  </tbody>\n",
       "</table>\n",
       "<p>91 rows × 5 columns</p>\n",
       "</div>"
      ],
      "text/plain": [
       "          date     cold      flu  pneumonia  coronavirus\n",
       "0   2019-12-07  0.12408  0.24699    0.22144      0.01309\n",
       "1   2019-12-08  0.11863  0.25390    0.19617      0.00836\n",
       "2   2019-12-09  0.16308  0.47880    0.33180      0.01272\n",
       "3   2019-12-10  0.13981  0.40789    0.30671      0.01881\n",
       "4   2019-12-11  0.13972  0.39007    0.30299      0.01854\n",
       "..         ...      ...      ...        ...          ...\n",
       "86  2020-03-02  0.88160  0.13345    0.44080     60.86853\n",
       "87  2020-03-03  0.67934  0.11917    0.39853     47.17367\n",
       "88  2020-03-04  0.82579  0.10790    0.35671     39.84053\n",
       "89  2020-03-05  0.64916  0.09745    0.31726     33.24218\n",
       "90  2020-03-06  0.58625  0.09163    0.28071     29.61647\n",
       "\n",
       "[91 rows x 5 columns]"
      ]
     },
     "execution_count": 2,
     "metadata": {},
     "output_type": "execute_result"
    }
   ],
   "source": [
    "data=pd.read_csv('D:/data set/corona/trend.csv')\n",
    "data"
   ]
  },
  {
   "cell_type": "code",
   "execution_count": 3,
   "metadata": {},
   "outputs": [],
   "source": [
    "data_x=data.iloc[:,[1,2]].values\n",
    "data_y=data.iloc[:,-1].values"
   ]
  },
  {
   "cell_type": "code",
   "execution_count": 4,
   "metadata": {},
   "outputs": [],
   "source": [
    "from sklearn.model_selection import train_test_split"
   ]
  },
  {
   "cell_type": "code",
   "execution_count": 5,
   "metadata": {},
   "outputs": [],
   "source": [
    "X_train, X_test, y_train, y_test = train_test_split( data_x,data_y, test_size=0.33, random_state=42)"
   ]
  },
  {
   "cell_type": "code",
   "execution_count": 6,
   "metadata": {},
   "outputs": [],
   "source": [
    "from sklearn.linear_model import LinearRegression"
   ]
  },
  {
   "cell_type": "code",
   "execution_count": 7,
   "metadata": {},
   "outputs": [
    {
     "data": {
      "text/plain": [
       "LinearRegression(copy_X=True, fit_intercept=True, n_jobs=None, normalize=False)"
      ]
     },
     "execution_count": 7,
     "metadata": {},
     "output_type": "execute_result"
    }
   ],
   "source": [
    "reg=LinearRegression()\n",
    "reg.fit(X_train,y_train)"
   ]
  },
  {
   "cell_type": "code",
   "execution_count": 8,
   "metadata": {},
   "outputs": [
    {
     "data": {
      "text/plain": [
       "array([ 6.61000349,  6.58148229, 52.43442569, 42.75889457, 10.78161098,\n",
       "        3.14166931,  6.23976763, 29.36669367,  6.28407803,  5.70195066,\n",
       "       59.52261176,  6.8287808 , 23.24964818, 43.99196069,  7.21016767,\n",
       "        8.94903916,  9.20437469, 20.13034618, 32.79325857, 39.31346295,\n",
       "        8.06632469, 27.35440768, 87.1633927 , -0.99648296,  4.76414971,\n",
       "        6.3440391 , 32.99141884, 23.61084679,  1.88304141, 66.90318663,\n",
       "        5.20325083])"
      ]
     },
     "execution_count": 8,
     "metadata": {},
     "output_type": "execute_result"
    }
   ],
   "source": [
    "y_pred = reg.predict(X_test)\n",
    "y_pred"
   ]
  },
  {
   "cell_type": "code",
   "execution_count": 9,
   "metadata": {},
   "outputs": [
    {
     "data": {
      "text/plain": [
       "array([3.849800e-01, 1.181000e-02, 5.841870e+01, 3.984053e+01,\n",
       "       1.309000e-02, 1.827000e-02, 1.553500e-01, 1.813918e+01,\n",
       "       2.245000e-02, 2.069610e+01, 5.620422e+01, 5.043400e-01,\n",
       "       1.034468e+01, 3.171404e+01, 1.890000e-02, 1.854000e-02,\n",
       "       1.163000e-02, 2.136000e-02, 6.284847e+01, 3.607691e+01,\n",
       "       1.427000e-02, 1.590997e+01, 8.523907e+01, 3.154000e-02,\n",
       "       3.962181e+01, 1.999000e-02, 5.211234e+01, 1.508472e+01,\n",
       "       3.927000e-02, 7.215665e+01, 1.536000e-02])"
      ]
     },
     "execution_count": 9,
     "metadata": {},
     "output_type": "execute_result"
    }
   ],
   "source": [
    "y_test"
   ]
  },
  {
   "cell_type": "code",
   "execution_count": null,
   "metadata": {},
   "outputs": [],
   "source": []
  }
 ],
 "metadata": {
  "kernelspec": {
   "display_name": "Python 3",
   "language": "python",
   "name": "python3"
  },
  "language_info": {
   "codemirror_mode": {
    "name": "ipython",
    "version": 3
   },
   "file_extension": ".py",
   "mimetype": "text/x-python",
   "name": "python",
   "nbconvert_exporter": "python",
   "pygments_lexer": "ipython3",
   "version": "3.7.4"
  }
 },
 "nbformat": 4,
 "nbformat_minor": 2
}
